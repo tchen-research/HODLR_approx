{
 "cells": [
  {
   "cell_type": "code",
   "execution_count": 1,
   "id": "731795f1-e4fb-425e-a87d-84c17aca283f",
   "metadata": {},
   "outputs": [],
   "source": [
    "import numpy as np\n",
    "import matplotlib.pyplot as plt\n",
    "import matplotlib as mpl\n",
    "from matplotlib.lines import Line2D\n",
    "\n",
    "from IPython.display import clear_output\n",
    "%load_ext autoreload\n",
    "%autoreload 2\n"
   ]
  },
  {
   "cell_type": "code",
   "execution_count": 5,
   "id": "55592e3e-8354-4ae7-add9-6db601bf185c",
   "metadata": {},
   "outputs": [],
   "source": [
    "line_styles = \\\n",
    "{\n",
    "    'solid' : {'ls':'-','color':'k'},\n",
    "    'dash' : {'ls':'--','color':'k'},\n",
    "    'dot' : {'ls':':','color':'k'},\n",
    "    'dashdot' : {'ls':'-.','color':'k'},\n",
    "}\n"
   ]
  },
  {
   "cell_type": "code",
   "execution_count": 8,
   "id": "9e513366-445d-413d-a6dc-03b2ea150a81",
   "metadata": {},
   "outputs": [
    {
     "data": {
      "image/png": "[encoded data removed]",
      "text/plain": [
       "<Figure size 50x8 with 1 Axes>"
      ]
     },
     "metadata": {},
     "output_type": "display_data"
    },
    {
     "data": {
      "image/png": "[encoded data removed]",
      "text/plain": [
       "<Figure size 50x8 with 1 Axes>"
      ]
     },
     "metadata": {},
     "output_type": "display_data"
    },
    {
     "data": {
      "image/png": "[encoded data removed]",
      "text/plain": [
       "<Figure size 50x8 with 1 Axes>"
      ]
     },
     "metadata": {},
     "output_type": "display_data"
    },
    {
     "data": {
      "image/png": "[encoded data removed]",
      "text/plain": [
       "<Figure size 50x8 with 1 Axes>"
      ]
     },
     "metadata": {},
     "output_type": "display_data"
    }
   ],
   "source": [
    "for name in line_styles:\n",
    "    fig = plt.figure(figsize=(.5,.08))\n",
    "    ax = fig.add_axes([.1,0,.8,1])\n",
    "    \n",
    "    ax.plot([.05,.2,.35],[.04,.04,.04],**line_styles[name])\n",
    "    ax.set_xlim(0,.4)\n",
    "    plt.axis('off')\n",
    "\n",
    "    plt.savefig(f'imgs/legend/{name}.pdf')"
   ]
  },
  {
   "cell_type": "code",
   "execution_count": null,
   "id": "b9928b95-f354-4e00-b47f-30ba9bd44eb8",
   "metadata": {},
   "outputs": [],
   "source": []
  }
 ],
 "metadata": {
  "kernelspec": {
   "display_name": "Python 3 (ipykernel)",
   "language": "python",
   "name": "python3"
  },
  "language_info": {
   "codemirror_mode": {
    "name": "ipython",
    "version": 3
   },
   "file_extension": ".py",
   "mimetype": "text/x-python",
   "name": "python",
   "nbconvert_exporter": "python",
   "pygments_lexer": "ipython3",
   "version": "3.10.9"
  }
 },
 "nbformat": 4,
 "nbformat_minor": 5
}
